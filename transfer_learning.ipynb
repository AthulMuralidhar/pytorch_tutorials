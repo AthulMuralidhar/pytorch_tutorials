{
 "cells": [
  {
   "cell_type": "code",
   "execution_count": 25,
   "metadata": {},
   "outputs": [
    {
     "data": {
      "text/markdown": [
       "source: https://pytorch.org/tutorials/beginner/transfer_learning_tutorial.html\n",
       "\n",
       "NOTES:\n",
       "* the ImageFolder class from torchvision.datasets works only when the data is in the current directory"
      ],
      "text/plain": [
       "<IPython.core.display.Markdown object>"
      ]
     },
     "metadata": {},
     "output_type": "display_data"
    }
   ],
   "source": [
    "%%markdown\n",
    "source: https://pytorch.org/tutorials/beginner/transfer_learning_tutorial.html\n",
    "\n",
    "NOTES:\n",
    "* the ImageFolder class from torchvision.datasets works only when the data is in the current directory"
   ]
  },
  {
   "cell_type": "code",
   "execution_count": 22,
   "metadata": {},
   "outputs": [
    {
     "name": "stdout",
     "output_type": "stream",
     "text": [
      "<class 'torchvision.datasets.folder.ImageFolder'>\n",
      "{'train': Dataset ImageFolder\n",
      "    Number of datapoints: 244\n",
      "    Root Location: ./hymenoptera_data/train\n",
      "    Transforms (if any): Compose(\n",
      "                             RandomResizedCrop(size=(224, 224), scale=(0.08, 1.0), ratio=(0.75, 1.3333), interpolation=PIL.Image.BILINEAR)\n",
      "                             RandomHorizontalFlip(p=0.5)\n",
      "                             ToTensor()\n",
      "                             Normalize(mean=[0.485, 0.456, 0.406], std=[0.229, 0.224, 0.225])\n",
      "                         )\n",
      "    Target Transforms (if any): None, 'val': Dataset ImageFolder\n",
      "    Number of datapoints: 153\n",
      "    Root Location: ./hymenoptera_data/val\n",
      "    Transforms (if any): Compose(\n",
      "                             Resize(size=256, interpolation=PIL.Image.BILINEAR)\n",
      "                             CenterCrop(size=(224, 224))\n",
      "                             ToTensor()\n",
      "                             Normalize(mean=[0.485, 0.456, 0.406], std=[0.229, 0.224, 0.225])\n",
      "                         )\n",
      "    Target Transforms (if any): None}\n"
     ]
    }
   ],
   "source": [
    "# official version\n",
    "\n",
    "from torchvision import transforms,datasets\n",
    "import os\n",
    "\n",
    "#data loader\n",
    "data_transforms = {'train': transforms.Compose([transforms.RandomResizedCrop(224),transforms.RandomHorizontalFlip(),\n",
    "                                           transforms.ToTensor(),\n",
    "                                            transforms.Normalize([0.485, 0.456, 0.406], [0.229, 0.224, 0.225])]),\n",
    "                   'val' : transforms.Compose([transforms.Resize(256),transforms.CenterCrop(224),\n",
    "                                                transforms.ToTensor(),\n",
    "                                          transforms.Normalize([0.485, 0.456, 0.406], [0.229, 0.224, 0.225])])}\n",
    "\n",
    "data_dir = './hymenoptera_data'\n",
    "image_datasets = {x: datasets.ImageFolder(os.path.join(data_dir, x),\n",
    "                                          data_transforms[x])\n",
    "                  for x in ['train', 'val']}\n",
    "print(image_datasets)"
   ]
  },
  {
   "cell_type": "code",
   "execution_count": 32,
   "metadata": {},
   "outputs": [
    {
     "name": "stdout",
     "output_type": "stream",
     "text": [
      "<torch.utils.data.dataloader.DataLoader object at 0x7fcf5f097390>\n"
     ]
    }
   ],
   "source": [
    "# test version\n",
    "from torchvision import transforms,datasets\n",
    "import os\n",
    "import torch\n",
    "\n",
    "#data loader\n",
    "\n",
    "data_transform_train = transforms.Compose([transforms.RandomResizedCrop(224),transforms.RandomHorizontalFlip(),\n",
    "                                           transforms.ToTensor(),\n",
    "                                            transforms.Normalize([0.485, 0.456, 0.406], [0.229, 0.224, 0.225])])\n",
    "data_transforms_test = transforms.Compose([transforms.Resize(256),transforms.CenterCrop(224),\n",
    "                                                transforms.ToTensor(),\n",
    "                                          transforms.Normalize([0.485, 0.456, 0.406], [0.229, 0.224, 0.225])])\n",
    "\n",
    "data_dir_train = './hymenoptera_data/train'\n",
    "image_datasets_train = datasets.ImageFolder(data_dir_train,data_transforms_train)\n",
    "\n",
    "data_dir_test = './hymenoptera_data/val'\n",
    "image_datasets_test = datasets.ImageFolder(data_dir_test,data_transforms_test)\n",
    "\n",
    "data_loader_train = torch.utils.data.DataLoader(image_datasets_train,batch_size = 4,shuffle=True,num_workers=4)\n",
    "data_loader_test = torch.utils.data.DataLoader(image_datasets_test,batch_size = 4,shuffle=True,num_workers=4)\n"
   ]
  },
  {
   "cell_type": "code",
   "execution_count": null,
   "metadata": {},
   "outputs": [],
   "source": []
  }
 ],
 "metadata": {
  "kernelspec": {
   "display_name": "Python 3",
   "language": "python",
   "name": "python3"
  },
  "language_info": {
   "codemirror_mode": {
    "name": "ipython",
    "version": 3
   },
   "file_extension": ".py",
   "mimetype": "text/x-python",
   "name": "python",
   "nbconvert_exporter": "python",
   "pygments_lexer": "ipython3",
   "version": "3.7.0"
  }
 },
 "nbformat": 4,
 "nbformat_minor": 2
}
